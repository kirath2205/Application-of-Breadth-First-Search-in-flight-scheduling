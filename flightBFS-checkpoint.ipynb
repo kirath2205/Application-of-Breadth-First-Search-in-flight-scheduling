{
 "cells": [
  {
   "cell_type": "code",
   "execution_count": 22,
   "metadata": {},
   "outputs": [],
   "source": [
    "# Basic Libraries\n",
    "import numpy as np\n",
    "import pandas as pd\n",
    "import matplotlib.pyplot as plt\n",
    "import seaborn as sb\n",
    "\n",
    "from timeit import default_timer as timer"
   ]
  },
  {
   "cell_type": "code",
   "execution_count": 2,
   "metadata": {},
   "outputs": [],
   "source": [
    "flightData = pd.read_csv('routes.csv')\n",
    "flightData = flightData.drop(columns = [' codeshare', ' stops', ' equipment', 'airline ID'\n",
    "                                       , ' source airport id', ' destination airport id'])\n",
    "\n",
    "flight2B = flightData.drop(flightData[flightData['airline']!='2B'].index) \n",
    "flight3F = flightData.drop(flightData[flightData['airline']!='3F'].index)\n",
    "flight3L = flightData.drop(flightData[flightData['airline']!='3L'].index)"
   ]
  },
  {
   "cell_type": "code",
   "execution_count": 3,
   "metadata": {},
   "outputs": [
    {
     "name": "stdout",
     "output_type": "stream",
     "text": [
      "There are 17 distinct cities in airport 2B.\n"
     ]
    }
   ],
   "source": [
    "distinctS1 = flight2B[' source airport']\n",
    "distinctS1 = distinctS1.drop_duplicates()\n",
    "distinctSource1 = []\n",
    "for i in distinctS1:\n",
    "    distinctSource1.append(i)\n",
    "print('There are', len(distinctSource1), \"distinct cities in airport 2B.\")"
   ]
  },
  {
   "cell_type": "code",
   "execution_count": 4,
   "metadata": {},
   "outputs": [
    {
     "name": "stdout",
     "output_type": "stream",
     "text": [
      "There are 17 distinct cities in airport 2B.\n"
     ]
    }
   ],
   "source": [
    "distinctD1 = flight2B[' destination airport']\n",
    "distinctD1 = distinctD1.drop_duplicates()\n",
    "distinctDestination1 = []\n",
    "for i in distinctD1:\n",
    "    distinctDestination1.append(i)\n",
    "print('There are', len(distinctDestination1), \"distinct cities in airport 2B.\")"
   ]
  },
  {
   "cell_type": "raw",
   "metadata": {},
   "source": [
    "The number cities of source and destination is the same\n",
    "Which then implies EVERY CITIES IS REACHABLE."
   ]
  },
  {
   "cell_type": "markdown",
   "metadata": {},
   "source": [
    "#Using dictionary to store adjacency lists\n",
    "#The value of a cirtain key, say the value of city 'ASF'\n",
    "#is its adjacency list."
   ]
  },
  {
   "cell_type": "code",
   "execution_count": 5,
   "metadata": {},
   "outputs": [
    {
     "name": "stdout",
     "output_type": "stream",
     "text": [
      "Number of edges of flight2B is 42\n",
      "\n",
      "The adjacent lists of every cities in flight2B: \n",
      "\n",
      "{'AER': ['KZN'], 'ASF': ['KZN', 'MRV'], 'CEK': ['KZN', 'OVB'], 'DME': ['KZN', 'NBC', 'TGK', 'UUA'], 'EGO': ['KGD', 'KZN'], 'GYD': ['NBC'], 'KGD': ['EGO'], 'KZN': ['AER', 'ASF', 'CEK', 'DME', 'EGO', 'LED', 'SVX'], 'LED': ['KZN', 'NBC', 'UUA'], 'MRV': ['ASF'], 'NBC': ['DME', 'GYD', 'LED', 'SVX'], 'NJC': ['SVX', 'UUA'], 'NUX': ['SVX'], 'OVB': ['CEK', 'SVX'], 'SVX': ['KZN', 'NBC', 'NJC', 'NUX', 'OVB'], 'TGK': ['DME'], 'UUA': ['DME', 'LED', 'NJC']}\n"
     ]
    }
   ],
   "source": [
    "#For flight2B\n",
    "print('Number of edges of flight2B is', flight2B[' source airport'].count())\n",
    "print()\n",
    "sourceAirport1 = flight2B[' source airport']\n",
    "destinationAirport1 = flight2B[' destination airport']\n",
    "adjacencyLists1 = {}\n",
    "for i in range(len(sourceAirport1)):\n",
    "    if (sourceAirport1[i] not in adjacencyLists1):\n",
    "        adjacencyLists1[sourceAirport1[i]] = [destinationAirport1[i]]\n",
    "    else:\n",
    "        adjacencyLists1[sourceAirport1[i]].append(destinationAirport1[i])\n",
    "print('The adjacent lists of every cities in flight2B: ')\n",
    "print()\n",
    "print(adjacencyLists1)"
   ]
  },
  {
   "cell_type": "code",
   "execution_count": 6,
   "metadata": {},
   "outputs": [
    {
     "name": "stdout",
     "output_type": "stream",
     "text": [
      "There are 5 distinct cities in airport 3F.\n"
     ]
    }
   ],
   "source": [
    "distinctS2 = flight3F[' source airport']\n",
    "distinctS2 = distinctS2.drop_duplicates()\n",
    "distinctSource2 = []\n",
    "for i in distinctS2:\n",
    "    distinctSource2.append(i)\n",
    "print('There are', len(distinctSource2), \"distinct cities in airport 3F.\")"
   ]
  },
  {
   "cell_type": "code",
   "execution_count": 7,
   "metadata": {},
   "outputs": [
    {
     "name": "stdout",
     "output_type": "stream",
     "text": [
      "There are 5 distinct cities in airport 3F.\n"
     ]
    }
   ],
   "source": [
    "distinctD2 = flight3F[' destination airport']\n",
    "distinctD2 = distinctD2.drop_duplicates()\n",
    "distinctDestination2 = []\n",
    "for i in distinctD2:\n",
    "    distinctDestination2.append(i)\n",
    "print('There are', len(distinctDestination2), \"distinct cities in airport 3F.\")"
   ]
  },
  {
   "cell_type": "code",
   "execution_count": 8,
   "metadata": {},
   "outputs": [
    {
     "name": "stdout",
     "output_type": "stream",
     "text": [
      "Number of edges of flight3F is 12\n",
      "\n",
      "The adjacent lists of every cities in flight3F: \n",
      "\n",
      "{'CGA': ['HYL', 'KTN'], 'HYL': ['CGA', 'KTB', 'KTN'], 'KTB': ['HYL', 'KTN'], 'KTN': ['CGA', 'HYL', 'KTB', 'MTM'], 'MTM': ['KTN']}\n"
     ]
    }
   ],
   "source": [
    "#For flight3F\n",
    "print('Number of edges of flight3F is', flight3F[' source airport'].count())\n",
    "print()\n",
    "sourceAirport2 = flight3F[' source airport']\n",
    "destinationAirport2 = flight3F[' destination airport']\n",
    "adjacencyLists2 = {}\n",
    "for i in range(270, 270+len(sourceAirport2)):\n",
    "    if (sourceAirport2[i] not in adjacencyLists2):\n",
    "        adjacencyLists2[sourceAirport2[i]] = [destinationAirport2[i]]\n",
    "    else:\n",
    "        adjacencyLists2[sourceAirport2[i]].append(destinationAirport2[i])\n",
    "print('The adjacent lists of every cities in flight3F: ')\n",
    "print()\n",
    "print(adjacencyLists2)"
   ]
  },
  {
   "cell_type": "code",
   "execution_count": 9,
   "metadata": {},
   "outputs": [
    {
     "name": "stdout",
     "output_type": "stream",
     "text": [
      "There are 15 distinct cities in airport 3L.\n"
     ]
    }
   ],
   "source": [
    "distinctS3 = flight3L[' source airport']\n",
    "distinctS3 = distinctS3.drop_duplicates()\n",
    "distinctSource3 = []\n",
    "for i in distinctS3:\n",
    "    distinctSource3.append(i)\n",
    "print('There are', len(distinctSource3), \"distinct cities in airport 3L.\")"
   ]
  },
  {
   "cell_type": "code",
   "execution_count": 10,
   "metadata": {},
   "outputs": [
    {
     "name": "stdout",
     "output_type": "stream",
     "text": [
      "There are 15 distinct cities in airport 3L.\n"
     ]
    }
   ],
   "source": [
    "distinctD3 = flight3L[' destination airport']\n",
    "distinctD3 = distinctD3.drop_duplicates()\n",
    "distinctDestination3 = []\n",
    "for i in distinctD3:\n",
    "    distinctDestination3.append(i)\n",
    "print('There are', len(distinctDestination3), \"distinct cities in airport 3L.\")"
   ]
  },
  {
   "cell_type": "code",
   "execution_count": 11,
   "metadata": {},
   "outputs": [
    {
     "name": "stdout",
     "output_type": "stream",
     "text": [
      "Number of edges of flight3F is 26\n",
      "\n",
      "The adjacent lists of every cities in flight3F: \n",
      "\n",
      "{'ACH': ['EBA'], 'DRS': ['ZRH'], 'DUS': ['FDH'], 'EBA': ['ACH', 'FDH', 'MUC', 'ZRH'], 'FDH': ['DUS', 'EBA', 'HAM', 'OLB', 'TXL', 'ZAD'], 'FMM': ['NAP'], 'GRZ': ['ZRH'], 'HAM': ['FDH'], 'MUC': ['EBA'], 'NAP': ['FMM'], 'OLB': ['FDH'], 'SZG': ['ZRH'], 'TXL': ['FDH'], 'ZAD': ['FDH'], 'ZRH': ['DRS', 'EBA', 'GRZ', 'SZG']}\n"
     ]
    }
   ],
   "source": [
    "#For flight3L\n",
    "print('Number of edges of flight3F is', flight3L[' source airport'].count())\n",
    "print()\n",
    "sourceAirport3 = flight3L[' source airport']\n",
    "destinationAirport3 = flight3L[' destination airport']\n",
    "adjacencyLists3 = {}\n",
    "for i in range(417, 417+len(sourceAirport3)):\n",
    "    if (sourceAirport3[i] not in adjacencyLists3):\n",
    "        adjacencyLists3[sourceAirport3[i]] = [destinationAirport3[i]]\n",
    "    else:\n",
    "        adjacencyLists3[sourceAirport3[i]].append(destinationAirport3[i])\n",
    "print('The adjacent lists of every cities in flight3F: ')\n",
    "print()\n",
    "print(adjacencyLists3)"
   ]
  },
  {
   "cell_type": "code",
   "execution_count": 12,
   "metadata": {},
   "outputs": [
    {
     "name": "stdout",
     "output_type": "stream",
     "text": [
      "Check if adjacencyLists1 is undirected: True\n",
      "Check if adjacencyLists2 is undirected: True\n",
      "Check if adjacencyLists3 is undirected: True\n"
     ]
    }
   ],
   "source": [
    "def checking(dic):\n",
    "    for key in dic:\n",
    "        for value in dic[key]:\n",
    "            count = 0\n",
    "            for i in dic[value]:\n",
    "                if key == i:\n",
    "                    count +=1\n",
    "        if count == 0:\n",
    "            return False\n",
    "    return True\n",
    "\n",
    "print('Check if adjacencyLists1 is undirected:', checking(adjacencyLists1))\n",
    "print('Check if adjacencyLists2 is undirected:', checking(adjacencyLists2))\n",
    "print('Check if adjacencyLists3 is undirected:', checking(adjacencyLists3))"
   ]
  },
  {
   "cell_type": "code",
   "execution_count": 13,
   "metadata": {},
   "outputs": [],
   "source": [
    "class Queue:\n",
    "    \n",
    "  #Constructor creates a list\n",
    "  def __init__(self):\n",
    "      self.queue = []\n",
    "\n",
    "  #Adding elements to queue\n",
    "  def enqueue(self,data):\n",
    "      #Checking to avoid duplicate entry (not mandatory)\n",
    "      if data not in self.queue:\n",
    "          self.queue.insert(0,data)\n",
    "          return True\n",
    "      return False\n",
    "\n",
    "  #Removing the last element from the queue\n",
    "  def dequeue(self):\n",
    "      if len(self.queue)>0:\n",
    "          return self.queue.pop()\n",
    "      return None\n",
    "\n",
    "  #Getting the size of the queue\n",
    "  def size(self):\n",
    "      return len(self.queue)\n",
    "\n",
    "  #printing the elements of the queue\n",
    "  def printQueue(self):\n",
    "      return self.queue"
   ]
  },
  {
   "cell_type": "code",
   "execution_count": 14,
   "metadata": {},
   "outputs": [],
   "source": [
    "def BFS(adjacency_dic, start, end, q):\n",
    "    \n",
    "    start_t = timer()\n",
    "    \n",
    "    if start not in adjacency_dic.keys():\n",
    "        return timer()-start_t\n",
    "    \n",
    "    searched_nodes = []\n",
    "    edge_record = []\n",
    "    prev = len(searched_nodes)-1        #currently len(searched_nodes) would be 0\n",
    "    q.enqueue(start) \n",
    "    edge_record.append((prev, start))\n",
    "    \n",
    "    while(q.size() != 0):\n",
    "        \n",
    "        #print(\"queue: \\t\", q.queue)\n",
    "        #print(\"searched: \\t\", searched_nodes)\n",
    "        prev += 1\n",
    "        node = q.dequeue()\n",
    "        searched_nodes.append(node)\n",
    "        \n",
    "        # when the route is found\n",
    "        if (node == end):\n",
    "            route = list()\n",
    "            while(True):\n",
    "                route.append(edge_record[prev][1])\n",
    "                if (edge_record[prev][0] == -1 ):\n",
    "                    break\n",
    "                prev = edge_record[prev][0]             # use this line to traceback the route\n",
    "            route.reverse()\n",
    "            print(*route, sep='->')\n",
    "            print()\n",
    "            break\n",
    "        \n",
    "        # when the route is not found yet, add every non-searched node into queue\n",
    "        for val in adjacency_dic[node]:\n",
    "            if (val not in searched_nodes) and (val not in q.queue) and val != node:\n",
    "                q.enqueue(val)\n",
    "                edge_record.append((prev, val))\n",
    "    end_t = timer()\n",
    "    return end_t-start_t"
   ]
  },
  {
   "cell_type": "code",
   "execution_count": 15,
   "metadata": {},
   "outputs": [],
   "source": [
    "def countAvgCpu(adjacencyLists, distinctCities):\n",
    "    sum = float(0)\n",
    "    sourceCity = distinctCities[0]\n",
    "    for i in range(1, len(distinctCities)): #destination city\n",
    "        print('dest:',distinctCities[i])\n",
    "        sum += BFS(adjacencyLists, sourceCity, distinctCities[i], Queue())\n",
    "    return sum/float(len(distinctCities))"
   ]
  },
  {
   "cell_type": "code",
   "execution_count": 16,
   "metadata": {},
   "outputs": [
    {
     "name": "stdout",
     "output_type": "stream",
     "text": [
      "dest: ASF\n",
      "AER->KZN->ASF\n",
      "\n",
      "dest: CEK\n",
      "AER->KZN->CEK\n",
      "\n",
      "dest: DME\n",
      "AER->KZN->DME\n",
      "\n",
      "dest: EGO\n",
      "AER->KZN->EGO\n",
      "\n",
      "dest: GYD\n",
      "AER->KZN->DME->NBC->GYD\n",
      "\n",
      "dest: KGD\n",
      "AER->KZN->EGO->KGD\n",
      "\n",
      "dest: KZN\n",
      "AER->KZN\n",
      "\n",
      "dest: LED\n",
      "AER->KZN->LED\n",
      "\n",
      "dest: MRV\n",
      "AER->KZN->ASF->MRV\n",
      "\n",
      "dest: NBC\n",
      "AER->KZN->DME->NBC\n",
      "\n",
      "dest: NJC\n",
      "AER->KZN->SVX->NJC\n",
      "\n",
      "dest: NUX\n",
      "AER->KZN->SVX->NUX\n",
      "\n",
      "dest: OVB\n",
      "AER->KZN->CEK->OVB\n",
      "\n",
      "dest: SVX\n",
      "AER->KZN->SVX\n",
      "\n",
      "dest: TGK\n",
      "AER->KZN->DME->TGK\n",
      "\n",
      "dest: UUA\n",
      "AER->KZN->DME->UUA\n",
      "\n",
      "The average CPU time of flight2B: 0.0002711920000000312\n"
     ]
    }
   ],
   "source": [
    "#Average CPU Time of flight2B\n",
    "flight2BAvgCpuTime = countAvgCpu(adjacencyLists1, distinctSource1)\n",
    "print('The average CPU time of flight2B:',flight2BAvgCpuTime)"
   ]
  },
  {
   "cell_type": "code",
   "execution_count": 17,
   "metadata": {
    "scrolled": true
   },
   "outputs": [
    {
     "name": "stdout",
     "output_type": "stream",
     "text": [
      "dest: HYL\n",
      "CGA->HYL\n",
      "\n",
      "dest: KTB\n",
      "CGA->HYL->KTB\n",
      "\n",
      "dest: KTN\n",
      "CGA->KTN\n",
      "\n",
      "dest: MTM\n",
      "CGA->KTN->MTM\n",
      "\n",
      "The average CPU time of flight3F: 6.645440000001557e-05\n"
     ]
    }
   ],
   "source": [
    "#Average CPU Time of flight3F\n",
    "flight3FAvgCpuTime = countAvgCpu(adjacencyLists2, distinctSource2)\n",
    "print('The average CPU time of flight3F:',flight3FAvgCpuTime)"
   ]
  },
  {
   "cell_type": "code",
   "execution_count": 18,
   "metadata": {},
   "outputs": [
    {
     "name": "stdout",
     "output_type": "stream",
     "text": [
      "dest: DRS\n",
      "ACH->EBA->ZRH->DRS\n",
      "\n",
      "dest: DUS\n",
      "ACH->EBA->FDH->DUS\n",
      "\n",
      "dest: EBA\n",
      "ACH->EBA\n",
      "\n",
      "dest: FDH\n",
      "ACH->EBA->FDH\n",
      "\n",
      "dest: FMM\n",
      "dest: GRZ\n",
      "ACH->EBA->ZRH->GRZ\n",
      "\n",
      "dest: HAM\n",
      "ACH->EBA->FDH->HAM\n",
      "\n",
      "dest: MUC\n",
      "ACH->EBA->MUC\n",
      "\n",
      "dest: NAP\n",
      "dest: OLB\n",
      "ACH->EBA->FDH->OLB\n",
      "\n",
      "dest: SZG\n",
      "ACH->EBA->ZRH->SZG\n",
      "\n",
      "dest: TXL\n",
      "ACH->EBA->FDH->TXL\n",
      "\n",
      "dest: ZAD\n",
      "ACH->EBA->FDH->ZAD\n",
      "\n",
      "dest: ZRH\n",
      "ACH->EBA->ZRH\n",
      "\n",
      "The average CPU time of flight3L: 0.00017230273333333675\n"
     ]
    }
   ],
   "source": [
    "#Average CPU Time of flight3L\n",
    "flight3LAvgCpuTime = countAvgCpu(adjacencyLists3, distinctSource3)\n",
    "print('The average CPU time of flight3L:',flight3LAvgCpuTime)"
   ]
  },
  {
   "cell_type": "code",
   "execution_count": 37,
   "metadata": {},
   "outputs": [],
   "source": [
    "cpuavg_arr = [flight2BAvgCpuTime, flight3LAvgCpuTime, flight3FAvgCpuTime]\n",
    "size_arr = [flight2B[' source airport'].count(), flight3L[' source airport'].count(), flight3F[' source airport'].count()]"
   ]
  },
  {
   "cell_type": "code",
   "execution_count": 52,
   "metadata": {},
   "outputs": [
    {
     "data": {
      "text/plain": [
       "[<matplotlib.lines.Line2D at 0x21ea8f92d30>]"
      ]
     },
     "execution_count": 52,
     "metadata": {},
     "output_type": "execute_result"
    },
    {
     "data": {
      "image/png": "[encoded data removed]",
      "text/plain": [
       "<Figure size 1152x576 with 1 Axes>"
      ]
     },
     "metadata": {
      "needs_background": "light"
     },
     "output_type": "display_data"
    }
   ],
   "source": [
    "f,axes = plt.subplots(1, 1, figsize=(16, 8))\n",
    "\n",
    "axes.set_title('Breadth First Search')\n",
    "axes.bar(size_arr, cpuavg_arr, color = \"blue\", width = 10)\n",
    "axes.set_xlabel('Size of Graph (number of edges)')\n",
    "axes.set_ylabel('Cpu time for BFS in micro seconds')\n",
    "\n",
    "axes.plot(size_arr, cpuavg_arr, 'r-')"
   ]
  },
  {
   "cell_type": "code",
   "execution_count": null,
   "metadata": {},
   "outputs": [],
   "source": []
  }
 ],
 "metadata": {
  "kernelspec": {
   "display_name": "Python 3",
   "language": "python",
   "name": "python3"
  },
  "language_info": {
   "codemirror_mode": {
    "name": "ipython",
    "version": 3
   },
   "file_extension": ".py",
   "mimetype": "text/x-python",
   "name": "python",
   "nbconvert_exporter": "python",
   "pygments_lexer": "ipython3",
   "version": "3.7.1"
  }
 },
 "nbformat": 4,
 "nbformat_minor": 2
}
